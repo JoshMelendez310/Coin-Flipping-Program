{
 "cells": [
  {
   "cell_type": "code",
   "execution_count": 3,
   "metadata": {},
   "outputs": [],
   "source": [
    "def coinflip():\n",
    "    import random\n",
    "\n",
    "    flips = 0\n",
    "    heads = \"Heads\"\n",
    "    tails = \"Tails\"\n",
    "    x=input(\"Do you want to flip the coin? Y or N\")\n",
    "    heads_and_tails = [(heads), (tails)]\n",
    "\n",
    "    while x == 'Y'.upper():\n",
    "        print(random.choice(heads_and_tails))\n",
    "        flips += 1\n",
    "        x=input(\"Do you want to coin flip? [y|n]\")\n",
    "\n",
    "    else:\n",
    "        print(\"You flipped the coin\",flips,\"times\")\n",
    "        print(\"Good bye\")"
   ]
  },
  {
   "cell_type": "code",
   "execution_count": 4,
   "metadata": {},
   "outputs": [
    {
     "name": "stdout",
     "output_type": "stream",
     "text": [
      "Do you want to flip the coin? Y or NY\n",
      "Heads\n",
      "Do you want to coin flip? [y|n]N\n",
      "You flipped the coin 1 times\n",
      "Good bye\n"
     ]
    }
   ],
   "source": [
    "coinflip()"
   ]
  }
 ],
 "metadata": {
  "kernelspec": {
   "display_name": "Python 3",
   "language": "python",
   "name": "python3"
  },
  "language_info": {
   "codemirror_mode": {
    "name": "ipython",
    "version": 3
   },
   "file_extension": ".py",
   "mimetype": "text/x-python",
   "name": "python",
   "nbconvert_exporter": "python",
   "pygments_lexer": "ipython3",
   "version": "3.7.3"
  }
 },
 "nbformat": 4,
 "nbformat_minor": 2
}
